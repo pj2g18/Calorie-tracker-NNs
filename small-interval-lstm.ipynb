{
 "cells": [
  {
   "cell_type": "code",
   "execution_count": 1,
   "metadata": {},
   "outputs": [],
   "source": [
    "import torch\n",
    "from torch import nn\n",
    "import numpy as np\n",
    "import os\n",
    "import time\n",
    "import codecs\n",
    "import re\n",
    "import json\n",
    "import pandas as pd\n",
    "import glob"
   ]
  },
  {
   "cell_type": "code",
   "execution_count": 2,
   "metadata": {},
   "outputs": [
    {
     "name": "stdout",
     "output_type": "stream",
     "text": [
      "['weight-2021-03-05.json']\n",
      "[{'weight': 116.6, 'fat': 16.0, 'date': '03/11/21'}\n",
      " {'weight': 116.6, 'fat': 16.0, 'date': '03/12/21'}\n",
      " {'weight': 114.6, 'fat': 15.300000190734863, 'date': '03/13/21'}\n",
      " {'weight': 114.6, 'fat': 14.5, 'date': '03/14/21'}\n",
      " {'weight': 112.0, 'fat': 13.899999618530273, 'date': '03/15/21'}\n",
      " {'weight': 112.8, 'fat': 13.199999809265137, 'date': '03/16/21'}\n",
      " {'weight': 112.8, 'fat': 13.199999809265137, 'date': '03/17/21'}\n",
      " {'weight': 112.0, 'fat': 14.600000381469727, 'date': '03/18/21'}\n",
      " {'weight': 112.2, 'fat': 14.600000381469727, 'date': '03/19/21'}\n",
      " {'weight': 110.0, 'fat': 14.600000381469727, 'date': '03/20/21'}\n",
      " {'weight': 110.8, 'fat': 13.899999618530273, 'date': '03/21/21'}\n",
      " {'weight': 109.8, 'fat': 13.899999618530273, 'date': '03/22/21'}\n",
      " {'weight': 109.8, 'fat': 13.899999618530273, 'date': '03/23/21'}\n",
      " {'weight': 110.4, 'fat': 14.600000381469727, 'date': '03/24/21'}\n",
      " {'weight': 107.6, 'fat': 14.600000381469727, 'date': '03/25/21'}\n",
      " {'weight': 109.8, 'fat': 13.199999809265137, 'date': '03/26/21'}\n",
      " {'weight': 108.7, 'fat': 13.199999809265137, 'date': '03/27/21'}]\n",
      "[116.6        112.53333333 109.26666667]\n",
      "[16.         13.66666667 14.36666679]\n"
     ]
    }
   ],
   "source": [
    "#get weight data\n",
    "rootdir = \"MyFitbitData5/Mad/personal & Account\"\n",
    "#rootdir = \"MyFitbitData/name/personal & Account\"\n",
    "regex = re.compile('weight-2021-03-05')\n",
    "#regex = re.compile('weight-2021-most-recent')\n",
    "\n",
    "filenames = os.listdir(rootdir)\n",
    "weights= []\n",
    "for root, dirs, files in os.walk(rootdir):\n",
    "    for file in files:\n",
    "        if regex.match(file):\n",
    "            weights = np.append(weights, file)\n",
    "\n",
    "print(weights)            \n",
    "for x in range(np.size(weights)):\n",
    "    filename = rootdir + \"/\" + weights[x]    \n",
    "    data = []\n",
    "    weight = []\n",
    "    fat = []\n",
    "    with open(filename) as json_file:\n",
    "        roughdata = json.load(json_file)\n",
    "        for x in range(np.size(roughdata)):\n",
    "            del roughdata[x][\"logId\"]\n",
    "            del roughdata[x][\"time\"]\n",
    "            del roughdata[x][\"source\"]\n",
    "            del roughdata[x][\"bmi\"]\n",
    "            weight = np.append(weight, roughdata[x][\"weight\"])\n",
    "            fat = np.append(fat, roughdata[x][\"fat\"])\n",
    "\n",
    "        data = np.append(data, roughdata)\n",
    "weightfat = data\n",
    "print(weightfat)\n",
    "weeklyWeights = [(weightfat[0][\"weight\"] + weightfat[1][\"weight\"])/2]\n",
    "weeklyfats = [(weightfat[0][\"fat\"] + weightfat[1][\"fat\"])/2]\n",
    "      \n",
    "for x in range(len(weightfat)):\n",
    "    if (x+1) % 7 == 0:\n",
    "        if x + 1 == len(weightfat):\n",
    "            weeklyWeights = np.append(weeklyWeights, (weightfat[x][\"weight\"] + weightfat[x-1][\"weight\"] )/2)\n",
    "            weeklyfats = np.append(weeklyfats, (weightfat[x][\"fat\"] + weightfat[x-1][\"fat\"])/2)\n",
    "\n",
    "        else:\n",
    "            weeklyWeights = np.append(weeklyWeights, (weightfat[x][\"weight\"] + weightfat[x+1][\"weight\"] + weightfat[x-1][\"weight\"])/3)\n",
    "            weeklyfats = np.append(weeklyfats, (weightfat[x][\"fat\"] + weightfat[x+1][\"fat\"] + weightfat[x-1][\"fat\"])/3)\n",
    "print(weeklyWeights)\n",
    "print(weeklyfats)"
   ]
  },
  {
   "cell_type": "code",
   "execution_count": null,
   "metadata": {},
   "outputs": [],
   "source": []
  }
 ],
 "metadata": {
  "kernelspec": {
   "display_name": "Python 3 (ipykernel)",
   "language": "python",
   "name": "python3"
  },
  "language_info": {
   "codemirror_mode": {
    "name": "ipython",
    "version": 3
   },
   "file_extension": ".py",
   "mimetype": "text/x-python",
   "name": "python",
   "nbconvert_exporter": "python",
   "pygments_lexer": "ipython3",
   "version": "3.7.11"
  }
 },
 "nbformat": 4,
 "nbformat_minor": 4
}
